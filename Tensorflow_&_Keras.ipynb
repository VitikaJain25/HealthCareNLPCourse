{
  "nbformat": 4,
  "nbformat_minor": 0,
  "metadata": {
    "colab": {
      "name": "Tensorflow & Keras.ipynb",
      "provenance": [],
      "collapsed_sections": [],
      "authorship_tag": "ABX9TyMFj/KDmwx9BGF0gleMM4NY",
      "include_colab_link": true
    },
    "kernelspec": {
      "name": "python3",
      "display_name": "Python 3"
    },
    "language_info": {
      "name": "python"
    }
  },
  "cells": [
    {
      "cell_type": "markdown",
      "metadata": {
        "id": "view-in-github",
        "colab_type": "text"
      },
      "source": [
        "<a href=\"https://colab.research.google.com/github/VitikaJain25/HealthCareNLPCourse/blob/main/Tensorflow_%26_Keras.ipynb\" target=\"_parent\"><img src=\"https://colab.research.google.com/assets/colab-badge.svg\" alt=\"Open In Colab\"/></a>"
      ]
    },
    {
      "cell_type": "code",
      "execution_count": 1,
      "metadata": {
        "id": "iGfmNaACukev"
      },
      "outputs": [],
      "source": [
        "# Tensorflow is Deep Learning Package.\n",
        "import tensorflow as tf\n",
        "# Keras is based on Tensorflow & it supports high end APIs.\n",
        "import tensorflow.keras as keras"
      ]
    },
    {
      "cell_type": "markdown",
      "source": [
        "# Tensor is N-Dimentional representation of array of data for various ranks like scalar:tensor(Rank 0), vector:tensor(Rank 1), Matrix(Rank 2), Tensor(3 or More).\n"
      ],
      "metadata": {
        "id": "GrrSnioovMi-"
      }
    },
    {
      "cell_type": "code",
      "source": [
        "# Creating a constant of scalar type\n",
        "# scalar with tensor rank = 0, shape =0, dtype = int32 bits\n",
        "# numpy indicates the value.\n",
        "tf.constant(10)"
      ],
      "metadata": {
        "colab": {
          "base_uri": "https://localhost:8080/"
        },
        "id": "X-OPIc3Pu87n",
        "outputId": "e69e59f5-35f0-42ce-9bfa-08016a822936"
      },
      "execution_count": 2,
      "outputs": [
        {
          "output_type": "execute_result",
          "data": {
            "text/plain": [
              "<tf.Tensor: shape=(), dtype=int32, numpy=10>"
            ]
          },
          "metadata": {},
          "execution_count": 2
        }
      ]
    },
    {
      "cell_type": "code",
      "source": [
        "# scalar with tensor rank = 0, shape = 0, dtype = int8 (-128 to 127)\n",
        "const_1 = tf.constant(127, dtype = 'int8')\n",
        "print(const_1)"
      ],
      "metadata": {
        "colab": {
          "base_uri": "https://localhost:8080/"
        },
        "id": "gWZEI6UcwZSc",
        "outputId": "da023b87-a51b-464f-c15a-fdc55b0fc2d1"
      },
      "execution_count": 3,
      "outputs": [
        {
          "output_type": "stream",
          "name": "stdout",
          "text": [
            "tf.Tensor(127, shape=(), dtype=int8)\n"
          ]
        }
      ]
    },
    {
      "cell_type": "code",
      "source": [
        "const_1.numpy()"
      ],
      "metadata": {
        "colab": {
          "base_uri": "https://localhost:8080/"
        },
        "id": "PuANmA0AxQiT",
        "outputId": "ff9bec93-77f7-406d-dac9-647ad1a4e875"
      },
      "execution_count": 4,
      "outputs": [
        {
          "output_type": "execute_result",
          "data": {
            "text/plain": [
              "127"
            ]
          },
          "metadata": {},
          "execution_count": 4
        }
      ]
    },
    {
      "cell_type": "code",
      "source": [
        "# Shows the tensor shape\n",
        "const_1.shape"
      ],
      "metadata": {
        "colab": {
          "base_uri": "https://localhost:8080/"
        },
        "id": "rSkMV0eOxT_z",
        "outputId": "fb9c2948-90ef-4496-c8d8-2351eddfac47"
      },
      "execution_count": 5,
      "outputs": [
        {
          "output_type": "execute_result",
          "data": {
            "text/plain": [
              "TensorShape([])"
            ]
          },
          "metadata": {},
          "execution_count": 5
        }
      ]
    },
    {
      "cell_type": "markdown",
      "source": [
        "## Vectors"
      ],
      "metadata": {
        "id": "bYLH6faVxgRB"
      }
    },
    {
      "cell_type": "code",
      "source": [
        "# Vector with Rank = 1\n",
        "const_2 = tf.constant([20., 40., 60., 80., 15], dtype = 'float16')\n",
        "print(const_2)"
      ],
      "metadata": {
        "colab": {
          "base_uri": "https://localhost:8080/"
        },
        "id": "7KQ2ey9Vxjmn",
        "outputId": "746454c1-ffb2-4571-d898-89101f8e231c"
      },
      "execution_count": 6,
      "outputs": [
        {
          "output_type": "stream",
          "name": "stdout",
          "text": [
            "tf.Tensor([20. 40. 60. 80. 15.], shape=(5,), dtype=float16)\n"
          ]
        }
      ]
    },
    {
      "cell_type": "code",
      "source": [
        "# tensor rank = 1\n",
        "const_2.shape"
      ],
      "metadata": {
        "colab": {
          "base_uri": "https://localhost:8080/"
        },
        "id": "dgkHQloPx4-6",
        "outputId": "e4e0e949-720a-4091-ad06-18d5383d6524"
      },
      "execution_count": 7,
      "outputs": [
        {
          "output_type": "execute_result",
          "data": {
            "text/plain": [
              "TensorShape([5])"
            ]
          },
          "metadata": {},
          "execution_count": 7
        }
      ]
    },
    {
      "cell_type": "code",
      "source": [
        "const_3 = tf.constant([20, 40, 60, 80, 15], dtype = 'int16')\n",
        "print(const_3)"
      ],
      "metadata": {
        "colab": {
          "base_uri": "https://localhost:8080/"
        },
        "id": "uSlOgd3LyRnK",
        "outputId": "2bdf0642-1a7b-4be7-eeb3-ae7dc208890e"
      },
      "execution_count": 9,
      "outputs": [
        {
          "output_type": "stream",
          "name": "stdout",
          "text": [
            "tf.Tensor([20 40 60 80 15], shape=(5,), dtype=int16)\n"
          ]
        }
      ]
    },
    {
      "cell_type": "code",
      "source": [
        "# Changing / Typecasting the data type.\n",
        "tf.cast(const_3, dtype = 'int32')"
      ],
      "metadata": {
        "colab": {
          "base_uri": "https://localhost:8080/"
        },
        "id": "dtO4mQ00yl9C",
        "outputId": "f421a5cc-307a-41b7-cddb-406934843983"
      },
      "execution_count": 10,
      "outputs": [
        {
          "output_type": "execute_result",
          "data": {
            "text/plain": [
              "<tf.Tensor: shape=(5,), dtype=int32, numpy=array([20, 40, 60, 80, 15], dtype=int32)>"
            ]
          },
          "metadata": {},
          "execution_count": 10
        }
      ]
    },
    {
      "cell_type": "code",
      "source": [
        "# Typecasting from one tensor data type to another.\n",
        "tf.cast(const_3, dtype = 'float32')"
      ],
      "metadata": {
        "colab": {
          "base_uri": "https://localhost:8080/"
        },
        "id": "euQ04biFzCYf",
        "outputId": "77dfcc6b-8b37-42f9-e9b1-dcb75a95fdcf"
      },
      "execution_count": 11,
      "outputs": [
        {
          "output_type": "execute_result",
          "data": {
            "text/plain": [
              "<tf.Tensor: shape=(5,), dtype=float32, numpy=array([20., 40., 60., 80., 15.], dtype=float32)>"
            ]
          },
          "metadata": {},
          "execution_count": 11
        }
      ]
    },
    {
      "cell_type": "markdown",
      "source": [
        "## Tensor Matrix"
      ],
      "metadata": {
        "id": "ELIczztczMo1"
      }
    },
    {
      "cell_type": "code",
      "source": [
        "# Vector with rank = 2\n",
        "const_4 = tf.constant([[220, 120, 260],\n",
        "                      [112, 150, 190],\n",
        "                      [220, 240, 180]], dtype = 'int16')\n",
        "print(const_4)"
      ],
      "metadata": {
        "colab": {
          "base_uri": "https://localhost:8080/"
        },
        "id": "Hpj_keMlzRd1",
        "outputId": "9cdbca8e-235c-49a2-e919-d0489c215d9b"
      },
      "execution_count": 14,
      "outputs": [
        {
          "output_type": "stream",
          "name": "stdout",
          "text": [
            "tf.Tensor(\n",
            "[[220 120 260]\n",
            " [112 150 190]\n",
            " [220 240 180]], shape=(3, 3), dtype=int16)\n"
          ]
        }
      ]
    },
    {
      "cell_type": "code",
      "source": [
        "const_4.shape"
      ],
      "metadata": {
        "colab": {
          "base_uri": "https://localhost:8080/"
        },
        "id": "UAszbi7k0Mk7",
        "outputId": "66bb5530-4fce-4521-bde1-9342fbc66569"
      },
      "execution_count": 15,
      "outputs": [
        {
          "output_type": "execute_result",
          "data": {
            "text/plain": [
              "TensorShape([3, 3])"
            ]
          },
          "metadata": {},
          "execution_count": 15
        }
      ]
    },
    {
      "cell_type": "code",
      "source": [
        "const_4.numpy()"
      ],
      "metadata": {
        "colab": {
          "base_uri": "https://localhost:8080/"
        },
        "id": "ZPSlzQTE0PDB",
        "outputId": "3b7db73b-814e-4a67-a841-b3b4fa499734"
      },
      "execution_count": 17,
      "outputs": [
        {
          "output_type": "execute_result",
          "data": {
            "text/plain": [
              "array([[220, 120, 260],\n",
              "       [112, 150, 190],\n",
              "       [220, 240, 180]], dtype=int16)"
            ]
          },
          "metadata": {},
          "execution_count": 17
        }
      ]
    },
    {
      "cell_type": "markdown",
      "source": [
        "## Tensor N-D Array"
      ],
      "metadata": {
        "id": "GSa85enJ0VUR"
      }
    },
    {
      "cell_type": "code",
      "source": [
        "const_5 = tf.constant([[[220, 120, 260],\n",
        "                      [112, 150, 190],\n",
        "                      [220, 240, 180]],\n",
        "                      [[220, 120, 260],\n",
        "                      [112, 150, 190],\n",
        "                      [220, 240, 180]]], dtype = 'int16')\n",
        "print (const_5)"
      ],
      "metadata": {
        "colab": {
          "base_uri": "https://localhost:8080/"
        },
        "id": "SWTAKE3n0YwL",
        "outputId": "b338d4a8-a0fe-4b07-b678-7de9f086eaf7"
      },
      "execution_count": 20,
      "outputs": [
        {
          "output_type": "stream",
          "name": "stdout",
          "text": [
            "tf.Tensor(\n",
            "[[[220 120 260]\n",
            "  [112 150 190]\n",
            "  [220 240 180]]\n",
            "\n",
            " [[220 120 260]\n",
            "  [112 150 190]\n",
            "  [220 240 180]]], shape=(2, 3, 3), dtype=int16)\n"
          ]
        }
      ]
    }
  ]
}